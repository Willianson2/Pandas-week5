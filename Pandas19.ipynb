{
 "cells": [
  {
   "cell_type": "code",
   "execution_count": 20,
   "id": "048cc5b0",
   "metadata": {},
   "outputs": [
    {
     "name": "stdout",
     "output_type": "stream",
     "text": [
      "1.2.4\n",
      "1.20.1\n"
     ]
    }
   ],
   "source": [
    "import pandas as pd\n",
    "import numpy as np\n",
    "\n",
    "print(pd.__version__)\n",
    "print(np.__version__)\n",
    "#import dan versi pandas"
   ]
  },
  {
   "cell_type": "code",
   "execution_count": 21,
   "id": "26ad9a88",
   "metadata": {},
   "outputs": [
    {
     "data": {
      "text/html": [
       "<div>\n",
       "<style scoped>\n",
       "    .dataframe tbody tr th:only-of-type {\n",
       "        vertical-align: middle;\n",
       "    }\n",
       "\n",
       "    .dataframe tbody tr th {\n",
       "        vertical-align: top;\n",
       "    }\n",
       "\n",
       "    .dataframe thead th {\n",
       "        text-align: right;\n",
       "    }\n",
       "</style>\n",
       "<table border=\"1\" class=\"dataframe\">\n",
       "  <thead>\n",
       "    <tr style=\"text-align: right;\">\n",
       "      <th></th>\n",
       "      <th>omset</th>\n",
       "      <th>operasional</th>\n",
       "    </tr>\n",
       "  </thead>\n",
       "  <tbody>\n",
       "    <tr>\n",
       "      <th>0</th>\n",
       "      <td>13</td>\n",
       "      <td>2</td>\n",
       "    </tr>\n",
       "    <tr>\n",
       "      <th>1</th>\n",
       "      <td>10</td>\n",
       "      <td>16</td>\n",
       "    </tr>\n",
       "    <tr>\n",
       "      <th>2</th>\n",
       "      <td>13</td>\n",
       "      <td>7</td>\n",
       "    </tr>\n",
       "    <tr>\n",
       "      <th>3</th>\n",
       "      <td>6</td>\n",
       "      <td>19</td>\n",
       "    </tr>\n",
       "    <tr>\n",
       "      <th>4</th>\n",
       "      <td>18</td>\n",
       "      <td>8</td>\n",
       "    </tr>\n",
       "  </tbody>\n",
       "</table>\n",
       "</div>"
      ],
      "text/plain": [
       "   omset  operasional\n",
       "0     13            2\n",
       "1     10           16\n",
       "2     13            7\n",
       "3      6           19\n",
       "4     18            8"
      ]
     },
     "execution_count": 21,
     "metadata": {},
     "output_type": "execute_result"
    }
   ],
   "source": [
    "n_rows = 5\n",
    "n_cols = 2\n",
    "cols = ['omset', 'operasional']\n",
    "\n",
    "df = pd.DataFrame(np.random.randint(1, 20, size=(n_rows, n_cols)),\n",
    "                 columns=cols)\n",
    "df\n",
    "#dataframe akan diisi dengan data random"
   ]
  },
  {
   "cell_type": "code",
   "execution_count": 22,
   "id": "a7d8a2bb",
   "metadata": {},
   "outputs": [
    {
     "data": {
      "text/html": [
       "<div>\n",
       "<style scoped>\n",
       "    .dataframe tbody tr th:only-of-type {\n",
       "        vertical-align: middle;\n",
       "    }\n",
       "\n",
       "    .dataframe tbody tr th {\n",
       "        vertical-align: top;\n",
       "    }\n",
       "\n",
       "    .dataframe thead th {\n",
       "        text-align: right;\n",
       "    }\n",
       "</style>\n",
       "<table border=\"1\" class=\"dataframe\">\n",
       "  <thead>\n",
       "    <tr style=\"text-align: right;\">\n",
       "      <th></th>\n",
       "      <th>omset</th>\n",
       "      <th>operasional</th>\n",
       "    </tr>\n",
       "  </thead>\n",
       "  <tbody>\n",
       "    <tr>\n",
       "      <th>0</th>\n",
       "      <td>1300000</td>\n",
       "      <td>20000</td>\n",
       "    </tr>\n",
       "    <tr>\n",
       "      <th>1</th>\n",
       "      <td>1000000</td>\n",
       "      <td>160000</td>\n",
       "    </tr>\n",
       "    <tr>\n",
       "      <th>2</th>\n",
       "      <td>1300000</td>\n",
       "      <td>70000</td>\n",
       "    </tr>\n",
       "    <tr>\n",
       "      <th>3</th>\n",
       "      <td>600000</td>\n",
       "      <td>190000</td>\n",
       "    </tr>\n",
       "    <tr>\n",
       "      <th>4</th>\n",
       "      <td>1800000</td>\n",
       "      <td>80000</td>\n",
       "    </tr>\n",
       "  </tbody>\n",
       "</table>\n",
       "</div>"
      ],
      "text/plain": [
       "     omset  operasional\n",
       "0  1300000        20000\n",
       "1  1000000       160000\n",
       "2  1300000        70000\n",
       "3   600000       190000\n",
       "4  1800000        80000"
      ]
     },
     "execution_count": 22,
     "metadata": {},
     "output_type": "execute_result"
    }
   ],
   "source": [
    "df['omset']= df['omset'] * 100_000\n",
    "df['operasional']= df['operasional'] * 10_000\n",
    "df\n",
    "#"
   ]
  },
  {
   "cell_type": "code",
   "execution_count": 23,
   "id": "c347e494",
   "metadata": {},
   "outputs": [
    {
     "data": {
      "text/html": [
       "<div>\n",
       "<style scoped>\n",
       "    .dataframe tbody tr th:only-of-type {\n",
       "        vertical-align: middle;\n",
       "    }\n",
       "\n",
       "    .dataframe tbody tr th {\n",
       "        vertical-align: top;\n",
       "    }\n",
       "\n",
       "    .dataframe thead th {\n",
       "        text-align: right;\n",
       "    }\n",
       "</style>\n",
       "<table border=\"1\" class=\"dataframe\">\n",
       "  <thead>\n",
       "    <tr style=\"text-align: right;\">\n",
       "      <th></th>\n",
       "      <th>tanggal</th>\n",
       "      <th>omset</th>\n",
       "      <th>operasional</th>\n",
       "    </tr>\n",
       "  </thead>\n",
       "  <tbody>\n",
       "    <tr>\n",
       "      <th>0</th>\n",
       "      <td>2000-01-01</td>\n",
       "      <td>1300000</td>\n",
       "      <td>20000</td>\n",
       "    </tr>\n",
       "    <tr>\n",
       "      <th>1</th>\n",
       "      <td>2000-01-02</td>\n",
       "      <td>1000000</td>\n",
       "      <td>160000</td>\n",
       "    </tr>\n",
       "    <tr>\n",
       "      <th>2</th>\n",
       "      <td>2000-01-03</td>\n",
       "      <td>1300000</td>\n",
       "      <td>70000</td>\n",
       "    </tr>\n",
       "    <tr>\n",
       "      <th>3</th>\n",
       "      <td>2000-01-04</td>\n",
       "      <td>600000</td>\n",
       "      <td>190000</td>\n",
       "    </tr>\n",
       "    <tr>\n",
       "      <th>4</th>\n",
       "      <td>2000-01-05</td>\n",
       "      <td>1800000</td>\n",
       "      <td>80000</td>\n",
       "    </tr>\n",
       "  </tbody>\n",
       "</table>\n",
       "</div>"
      ],
      "text/plain": [
       "     tanggal    omset  operasional\n",
       "0 2000-01-01  1300000        20000\n",
       "1 2000-01-02  1000000       160000\n",
       "2 2000-01-03  1300000        70000\n",
       "3 2000-01-04   600000       190000\n",
       "4 2000-01-05  1800000        80000"
      ]
     },
     "execution_count": 23,
     "metadata": {},
     "output_type": "execute_result"
    }
   ],
   "source": [
    "df.index = pd.util.testing.makeDateIndex(n_rows, freq='D')\n",
    "df = df.reset_index()\n",
    "df = df.rename(columns={'index':'tanggal'})\n",
    "df\n",
    "#frekuensi nya Daily"
   ]
  },
  {
   "cell_type": "code",
   "execution_count": 24,
   "id": "4ad1c248",
   "metadata": {},
   "outputs": [
    {
     "data": {
      "text/html": [
       "<style  type=\"text/css\" >\n",
       "</style><table id=\"T_caa8b_\" ><thead>    <tr>        <th class=\"blank level0\" ></th>        <th class=\"col_heading level0 col0\" >tanggal</th>        <th class=\"col_heading level0 col1\" >omset</th>        <th class=\"col_heading level0 col2\" >operasional</th>    </tr></thead><tbody>\n",
       "                <tr>\n",
       "                        <th id=\"T_caa8b_level0_row0\" class=\"row_heading level0 row0\" >0</th>\n",
       "                        <td id=\"T_caa8b_row0_col0\" class=\"data row0 col0\" >01/01/00</td>\n",
       "                        <td id=\"T_caa8b_row0_col1\" class=\"data row0 col1\" >Rp 1300000.00</td>\n",
       "                        <td id=\"T_caa8b_row0_col2\" class=\"data row0 col2\" >Rp 20000.00</td>\n",
       "            </tr>\n",
       "            <tr>\n",
       "                        <th id=\"T_caa8b_level0_row1\" class=\"row_heading level0 row1\" >1</th>\n",
       "                        <td id=\"T_caa8b_row1_col0\" class=\"data row1 col0\" >02/01/00</td>\n",
       "                        <td id=\"T_caa8b_row1_col1\" class=\"data row1 col1\" >Rp 1000000.00</td>\n",
       "                        <td id=\"T_caa8b_row1_col2\" class=\"data row1 col2\" >Rp 160000.00</td>\n",
       "            </tr>\n",
       "            <tr>\n",
       "                        <th id=\"T_caa8b_level0_row2\" class=\"row_heading level0 row2\" >2</th>\n",
       "                        <td id=\"T_caa8b_row2_col0\" class=\"data row2 col0\" >03/01/00</td>\n",
       "                        <td id=\"T_caa8b_row2_col1\" class=\"data row2 col1\" >Rp 1300000.00</td>\n",
       "                        <td id=\"T_caa8b_row2_col2\" class=\"data row2 col2\" >Rp 70000.00</td>\n",
       "            </tr>\n",
       "            <tr>\n",
       "                        <th id=\"T_caa8b_level0_row3\" class=\"row_heading level0 row3\" >3</th>\n",
       "                        <td id=\"T_caa8b_row3_col0\" class=\"data row3 col0\" >04/01/00</td>\n",
       "                        <td id=\"T_caa8b_row3_col1\" class=\"data row3 col1\" >Rp 600000.00</td>\n",
       "                        <td id=\"T_caa8b_row3_col2\" class=\"data row3 col2\" >Rp 190000.00</td>\n",
       "            </tr>\n",
       "            <tr>\n",
       "                        <th id=\"T_caa8b_level0_row4\" class=\"row_heading level0 row4\" >4</th>\n",
       "                        <td id=\"T_caa8b_row4_col0\" class=\"data row4 col0\" >05/01/00</td>\n",
       "                        <td id=\"T_caa8b_row4_col1\" class=\"data row4 col1\" >Rp 1800000.00</td>\n",
       "                        <td id=\"T_caa8b_row4_col2\" class=\"data row4 col2\" >Rp 80000.00</td>\n",
       "            </tr>\n",
       "    </tbody></table>"
      ],
      "text/plain": [
       "<pandas.io.formats.style.Styler at 0x27f26fe39a0>"
      ]
     },
     "execution_count": 24,
     "metadata": {},
     "output_type": "execute_result"
    }
   ],
   "source": [
    "formatku = {'tanggal':'{:%d/%m/%y}',\n",
    "           'operasional':'Rp {:.2f}',\n",
    "           'omset':'Rp {:.2f}'}\n",
    "\n",
    "laporan = df.style.format(formatku)\n",
    "laporan\n",
    "#dictionary urutan bebas dan tidak bermasalah\n",
    "#3 keys berisi formating terhadap data"
   ]
  },
  {
   "cell_type": "code",
   "execution_count": 25,
   "id": "a8f064db",
   "metadata": {},
   "outputs": [
    {
     "data": {
      "text/plain": [
       "pandas.io.formats.style.Styler"
      ]
     },
     "execution_count": 25,
     "metadata": {},
     "output_type": "execute_result"
    }
   ],
   "source": [
    "type(laporan)"
   ]
  },
  {
   "cell_type": "code",
   "execution_count": 26,
   "id": "2f95a384",
   "metadata": {},
   "outputs": [
    {
     "data": {
      "text/html": [
       "<style  type=\"text/css\" >\n",
       "</style><table id=\"T_caa8b_\" ><thead>    <tr>        <th class=\"col_heading level0 col0\" >tanggal</th>        <th class=\"col_heading level0 col1\" >omset</th>        <th class=\"col_heading level0 col2\" >operasional</th>    </tr></thead><tbody>\n",
       "                <tr>\n",
       "                                <td id=\"T_caa8b_row0_col0\" class=\"data row0 col0\" >01/01/00</td>\n",
       "                        <td id=\"T_caa8b_row0_col1\" class=\"data row0 col1\" >Rp 1300000.00</td>\n",
       "                        <td id=\"T_caa8b_row0_col2\" class=\"data row0 col2\" >Rp 20000.00</td>\n",
       "            </tr>\n",
       "            <tr>\n",
       "                                <td id=\"T_caa8b_row1_col0\" class=\"data row1 col0\" >02/01/00</td>\n",
       "                        <td id=\"T_caa8b_row1_col1\" class=\"data row1 col1\" >Rp 1000000.00</td>\n",
       "                        <td id=\"T_caa8b_row1_col2\" class=\"data row1 col2\" >Rp 160000.00</td>\n",
       "            </tr>\n",
       "            <tr>\n",
       "                                <td id=\"T_caa8b_row2_col0\" class=\"data row2 col0\" >03/01/00</td>\n",
       "                        <td id=\"T_caa8b_row2_col1\" class=\"data row2 col1\" >Rp 1300000.00</td>\n",
       "                        <td id=\"T_caa8b_row2_col2\" class=\"data row2 col2\" >Rp 70000.00</td>\n",
       "            </tr>\n",
       "            <tr>\n",
       "                                <td id=\"T_caa8b_row3_col0\" class=\"data row3 col0\" >04/01/00</td>\n",
       "                        <td id=\"T_caa8b_row3_col1\" class=\"data row3 col1\" >Rp 600000.00</td>\n",
       "                        <td id=\"T_caa8b_row3_col2\" class=\"data row3 col2\" >Rp 190000.00</td>\n",
       "            </tr>\n",
       "            <tr>\n",
       "                                <td id=\"T_caa8b_row4_col0\" class=\"data row4 col0\" >05/01/00</td>\n",
       "                        <td id=\"T_caa8b_row4_col1\" class=\"data row4 col1\" >Rp 1800000.00</td>\n",
       "                        <td id=\"T_caa8b_row4_col2\" class=\"data row4 col2\" >Rp 80000.00</td>\n",
       "            </tr>\n",
       "    </tbody></table>"
      ],
      "text/plain": [
       "<pandas.io.formats.style.Styler at 0x27f26fe39a0>"
      ]
     },
     "execution_count": 26,
     "metadata": {},
     "output_type": "execute_result"
    }
   ],
   "source": [
    "laporan.hide_index()"
   ]
  },
  {
   "cell_type": "code",
   "execution_count": 27,
   "id": "9ab385f9",
   "metadata": {},
   "outputs": [
    {
     "data": {
      "text/html": [
       "<style  type=\"text/css\" >\n",
       "</style><table id=\"T_caa8b_\" ><caption>Data Omset dan Operasional</caption><thead>    <tr>        <th class=\"col_heading level0 col0\" >tanggal</th>        <th class=\"col_heading level0 col1\" >omset</th>        <th class=\"col_heading level0 col2\" >operasional</th>    </tr></thead><tbody>\n",
       "                <tr>\n",
       "                                <td id=\"T_caa8b_row0_col0\" class=\"data row0 col0\" >01/01/00</td>\n",
       "                        <td id=\"T_caa8b_row0_col1\" class=\"data row0 col1\" >Rp 1300000.00</td>\n",
       "                        <td id=\"T_caa8b_row0_col2\" class=\"data row0 col2\" >Rp 20000.00</td>\n",
       "            </tr>\n",
       "            <tr>\n",
       "                                <td id=\"T_caa8b_row1_col0\" class=\"data row1 col0\" >02/01/00</td>\n",
       "                        <td id=\"T_caa8b_row1_col1\" class=\"data row1 col1\" >Rp 1000000.00</td>\n",
       "                        <td id=\"T_caa8b_row1_col2\" class=\"data row1 col2\" >Rp 160000.00</td>\n",
       "            </tr>\n",
       "            <tr>\n",
       "                                <td id=\"T_caa8b_row2_col0\" class=\"data row2 col0\" >03/01/00</td>\n",
       "                        <td id=\"T_caa8b_row2_col1\" class=\"data row2 col1\" >Rp 1300000.00</td>\n",
       "                        <td id=\"T_caa8b_row2_col2\" class=\"data row2 col2\" >Rp 70000.00</td>\n",
       "            </tr>\n",
       "            <tr>\n",
       "                                <td id=\"T_caa8b_row3_col0\" class=\"data row3 col0\" >04/01/00</td>\n",
       "                        <td id=\"T_caa8b_row3_col1\" class=\"data row3 col1\" >Rp 600000.00</td>\n",
       "                        <td id=\"T_caa8b_row3_col2\" class=\"data row3 col2\" >Rp 190000.00</td>\n",
       "            </tr>\n",
       "            <tr>\n",
       "                                <td id=\"T_caa8b_row4_col0\" class=\"data row4 col0\" >05/01/00</td>\n",
       "                        <td id=\"T_caa8b_row4_col1\" class=\"data row4 col1\" >Rp 1800000.00</td>\n",
       "                        <td id=\"T_caa8b_row4_col2\" class=\"data row4 col2\" >Rp 80000.00</td>\n",
       "            </tr>\n",
       "    </tbody></table>"
      ],
      "text/plain": [
       "<pandas.io.formats.style.Styler at 0x27f26fe39a0>"
      ]
     },
     "execution_count": 27,
     "metadata": {},
     "output_type": "execute_result"
    }
   ],
   "source": [
    "laporan.set_caption('Data Omset dan Operasional')"
   ]
  },
  {
   "cell_type": "code",
   "execution_count": 29,
   "id": "94866da9",
   "metadata": {},
   "outputs": [
    {
     "data": {
      "text/html": [
       "<style  type=\"text/css\" >\n",
       "#T_caa8b_row0_col2{\n",
       "            background-color:  lightblue;\n",
       "            background-color:  lightblue;\n",
       "            background-color:  lightblue;\n",
       "        }#T_caa8b_row3_col1{\n",
       "            background-color:  pink;\n",
       "            background-color:  pink;\n",
       "            background-color:  pink;\n",
       "        }#T_caa8b_row3_col2{\n",
       "            background-color:  gray;\n",
       "            background-color:  gray;\n",
       "            background-color:  gray;\n",
       "        }#T_caa8b_row4_col1{\n",
       "            background-color:  lightgreen;\n",
       "            background-color:  lightgreen;\n",
       "            background-color:  lightgreen;\n",
       "        }</style><table id=\"T_caa8b_\" ><caption>Data Omset dan Operasional</caption><thead>    <tr>        <th class=\"col_heading level0 col0\" >tanggal</th>        <th class=\"col_heading level0 col1\" >omset</th>        <th class=\"col_heading level0 col2\" >operasional</th>    </tr></thead><tbody>\n",
       "                <tr>\n",
       "                                <td id=\"T_caa8b_row0_col0\" class=\"data row0 col0\" >01/01/00</td>\n",
       "                        <td id=\"T_caa8b_row0_col1\" class=\"data row0 col1\" >Rp 1300000.00</td>\n",
       "                        <td id=\"T_caa8b_row0_col2\" class=\"data row0 col2\" >Rp 20000.00</td>\n",
       "            </tr>\n",
       "            <tr>\n",
       "                                <td id=\"T_caa8b_row1_col0\" class=\"data row1 col0\" >02/01/00</td>\n",
       "                        <td id=\"T_caa8b_row1_col1\" class=\"data row1 col1\" >Rp 1000000.00</td>\n",
       "                        <td id=\"T_caa8b_row1_col2\" class=\"data row1 col2\" >Rp 160000.00</td>\n",
       "            </tr>\n",
       "            <tr>\n",
       "                                <td id=\"T_caa8b_row2_col0\" class=\"data row2 col0\" >03/01/00</td>\n",
       "                        <td id=\"T_caa8b_row2_col1\" class=\"data row2 col1\" >Rp 1300000.00</td>\n",
       "                        <td id=\"T_caa8b_row2_col2\" class=\"data row2 col2\" >Rp 70000.00</td>\n",
       "            </tr>\n",
       "            <tr>\n",
       "                                <td id=\"T_caa8b_row3_col0\" class=\"data row3 col0\" >04/01/00</td>\n",
       "                        <td id=\"T_caa8b_row3_col1\" class=\"data row3 col1\" >Rp 600000.00</td>\n",
       "                        <td id=\"T_caa8b_row3_col2\" class=\"data row3 col2\" >Rp 190000.00</td>\n",
       "            </tr>\n",
       "            <tr>\n",
       "                                <td id=\"T_caa8b_row4_col0\" class=\"data row4 col0\" >05/01/00</td>\n",
       "                        <td id=\"T_caa8b_row4_col1\" class=\"data row4 col1\" >Rp 1800000.00</td>\n",
       "                        <td id=\"T_caa8b_row4_col2\" class=\"data row4 col2\" >Rp 80000.00</td>\n",
       "            </tr>\n",
       "    </tbody></table>"
      ],
      "text/plain": [
       "<pandas.io.formats.style.Styler at 0x27f26fe39a0>"
      ]
     },
     "execution_count": 29,
     "metadata": {},
     "output_type": "execute_result"
    }
   ],
   "source": [
    "laporan.highlight_min('omset', color='pink')\n",
    "laporan.highlight_max('omset', color='lightgreen')\n",
    "\n",
    "laporan.highlight_min('operasional', color='lightblue')\n",
    "laporan.highlight_max('operasional', color='gray')\n",
    "#nilai omset min warna pink\n",
    "#nilai omset max warna hijau terang\n",
    "#nilai operasional min warna biru\n",
    "#nilai operasional max warna abu abu"
   ]
  },
  {
   "cell_type": "code",
   "execution_count": null,
   "id": "f8d93969",
   "metadata": {},
   "outputs": [],
   "source": []
  }
 ],
 "metadata": {
  "kernelspec": {
   "display_name": "Python 3",
   "language": "python",
   "name": "python3"
  },
  "language_info": {
   "codemirror_mode": {
    "name": "ipython",
    "version": 3
   },
   "file_extension": ".py",
   "mimetype": "text/x-python",
   "name": "python",
   "nbconvert_exporter": "python",
   "pygments_lexer": "ipython3",
   "version": "3.8.8"
  }
 },
 "nbformat": 4,
 "nbformat_minor": 5
}
